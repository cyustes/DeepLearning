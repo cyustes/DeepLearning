{
 "cells": [
  {
   "cell_type": "markdown",
   "metadata": {},
   "source": [
    "# LSTM-1 sin tiempo"
   ]
  },
  {
   "cell_type": "code",
   "execution_count": 8,
   "metadata": {},
   "outputs": [
    {
     "name": "stdout",
     "output_type": "stream",
     "text": [
      "Requirement already satisfied: torch in c:\\users\\carlo\\appdata\\local\\packages\\pythonsoftwarefoundation.python.3.11_qbz5n2kfra8p0\\localcache\\local-packages\\python311\\site-packages (2.1.0)\n",
      "Requirement already satisfied: filelock in c:\\users\\carlo\\appdata\\local\\packages\\pythonsoftwarefoundation.python.3.11_qbz5n2kfra8p0\\localcache\\local-packages\\python311\\site-packages (from torch) (3.12.4)\n",
      "Requirement already satisfied: typing-extensions in c:\\users\\carlo\\appdata\\local\\packages\\pythonsoftwarefoundation.python.3.11_qbz5n2kfra8p0\\localcache\\local-packages\\python311\\site-packages (from torch) (4.7.1)\n",
      "Requirement already satisfied: sympy in c:\\users\\carlo\\appdata\\local\\packages\\pythonsoftwarefoundation.python.3.11_qbz5n2kfra8p0\\localcache\\local-packages\\python311\\site-packages (from torch) (1.12)\n",
      "Requirement already satisfied: networkx in c:\\users\\carlo\\appdata\\local\\packages\\pythonsoftwarefoundation.python.3.11_qbz5n2kfra8p0\\localcache\\local-packages\\python311\\site-packages (from torch) (3.1)\n",
      "Requirement already satisfied: jinja2 in c:\\users\\carlo\\appdata\\local\\packages\\pythonsoftwarefoundation.python.3.11_qbz5n2kfra8p0\\localcache\\local-packages\\python311\\site-packages (from torch) (3.1.2)\n",
      "Requirement already satisfied: fsspec in c:\\users\\carlo\\appdata\\local\\packages\\pythonsoftwarefoundation.python.3.11_qbz5n2kfra8p0\\localcache\\local-packages\\python311\\site-packages (from torch) (2023.9.2)\n",
      "Requirement already satisfied: MarkupSafe>=2.0 in c:\\users\\carlo\\appdata\\local\\packages\\pythonsoftwarefoundation.python.3.11_qbz5n2kfra8p0\\localcache\\local-packages\\python311\\site-packages (from jinja2->torch) (2.1.3)\n",
      "Requirement already satisfied: mpmath>=0.19 in c:\\users\\carlo\\appdata\\local\\packages\\pythonsoftwarefoundation.python.3.11_qbz5n2kfra8p0\\localcache\\local-packages\\python311\\site-packages (from sympy->torch) (1.3.0)\n",
      "Note: you may need to restart the kernel to use updated packages.\n"
     ]
    },
    {
     "name": "stderr",
     "output_type": "stream",
     "text": [
      "\n",
      "[notice] A new release of pip is available: 23.2.1 -> 23.3.1\n",
      "[notice] To update, run: C:\\Users\\carlo\\AppData\\Local\\Microsoft\\WindowsApps\\PythonSoftwareFoundation.Python.3.11_qbz5n2kfra8p0\\python.exe -m pip install --upgrade pip\n"
     ]
    }
   ],
   "source": [
    "pip install torch"
   ]
  },
  {
   "cell_type": "code",
   "execution_count": 3,
   "metadata": {},
   "outputs": [
    {
     "name": "stdout",
     "output_type": "stream",
     "text": [
      "Requirement already satisfied: pandas in c:\\users\\carlo\\appdata\\local\\packages\\pythonsoftwarefoundation.python.3.11_qbz5n2kfra8p0\\localcache\\local-packages\\python311\\site-packages (2.1.1)\n",
      "Requirement already satisfied: numpy>=1.23.2 in c:\\users\\carlo\\appdata\\local\\packages\\pythonsoftwarefoundation.python.3.11_qbz5n2kfra8p0\\localcache\\local-packages\\python311\\site-packages (from pandas) (1.25.2)\n",
      "Requirement already satisfied: python-dateutil>=2.8.2 in c:\\users\\carlo\\appdata\\local\\packages\\pythonsoftwarefoundation.python.3.11_qbz5n2kfra8p0\\localcache\\local-packages\\python311\\site-packages (from pandas) (2.8.2)\n",
      "Requirement already satisfied: pytz>=2020.1 in c:\\users\\carlo\\appdata\\local\\packages\\pythonsoftwarefoundation.python.3.11_qbz5n2kfra8p0\\localcache\\local-packages\\python311\\site-packages (from pandas) (2023.3.post1)\n",
      "Requirement already satisfied: tzdata>=2022.1 in c:\\users\\carlo\\appdata\\local\\packages\\pythonsoftwarefoundation.python.3.11_qbz5n2kfra8p0\\localcache\\local-packages\\python311\\site-packages (from pandas) (2023.3)\n",
      "Requirement already satisfied: six>=1.5 in c:\\users\\carlo\\appdata\\local\\packages\\pythonsoftwarefoundation.python.3.11_qbz5n2kfra8p0\\localcache\\local-packages\\python311\\site-packages (from python-dateutil>=2.8.2->pandas) (1.16.0)\n",
      "Note: you may need to restart the kernel to use updated packages.\n"
     ]
    },
    {
     "name": "stderr",
     "output_type": "stream",
     "text": [
      "\n",
      "[notice] A new release of pip is available: 23.2.1 -> 23.3.1\n",
      "[notice] To update, run: C:\\Users\\carlo\\AppData\\Local\\Microsoft\\WindowsApps\\PythonSoftwareFoundation.Python.3.11_qbz5n2kfra8p0\\python.exe -m pip install --upgrade pip\n"
     ]
    }
   ],
   "source": [
    "pip install pandas"
   ]
  },
  {
   "cell_type": "code",
   "execution_count": 23,
   "metadata": {},
   "outputs": [
    {
     "name": "stdout",
     "output_type": "stream",
     "text": [
      "Epoch 1/50, Training Loss: 0.2402, Validation Loss: 0.1687\n",
      "Epoch 2/50, Training Loss: 0.1679, Validation Loss: 0.1446\n",
      "Epoch 3/50, Training Loss: 0.1442, Validation Loss: 0.1486\n",
      "Epoch 4/50, Training Loss: 0.1486, Validation Loss: 0.1429\n",
      "Epoch 5/50, Training Loss: 0.1430, Validation Loss: 0.1257\n",
      "Epoch 6/50, Training Loss: 0.1256, Validation Loss: 0.1104\n",
      "Epoch 7/50, Training Loss: 0.1101, Validation Loss: 0.1014\n",
      "Epoch 8/50, Training Loss: 0.1011, Validation Loss: 0.0950\n",
      "Epoch 9/50, Training Loss: 0.0946, Validation Loss: 0.0848\n",
      "Epoch 10/50, Training Loss: 0.0844, Validation Loss: 0.0680\n",
      "Epoch 11/50, Training Loss: 0.0677, Validation Loss: 0.0474\n",
      "Epoch 12/50, Training Loss: 0.0472, Validation Loss: 0.0306\n",
      "Epoch 13/50, Training Loss: 0.0305, Validation Loss: 0.0232\n",
      "Epoch 14/50, Training Loss: 0.0232, Validation Loss: 0.0172\n",
      "Epoch 15/50, Training Loss: 0.0173, Validation Loss: 0.0131\n",
      "Epoch 16/50, Training Loss: 0.0132, Validation Loss: 0.0249\n",
      "Epoch 17/50, Training Loss: 0.0252, Validation Loss: 0.0293\n",
      "Epoch 18/50, Training Loss: 0.0297, Validation Loss: 0.0221\n",
      "Epoch 19/50, Training Loss: 0.0224, Validation Loss: 0.0159\n",
      "Epoch 20/50, Training Loss: 0.0160, Validation Loss: 0.0106\n",
      "Epoch 21/50, Training Loss: 0.0107, Validation Loss: 0.0053\n",
      "Epoch 22/50, Training Loss: 0.0054, Validation Loss: 0.0035\n",
      "Epoch 23/50, Training Loss: 0.0035, Validation Loss: 0.0052\n",
      "Epoch 24/50, Training Loss: 0.0052, Validation Loss: 0.0076\n",
      "Epoch 25/50, Training Loss: 0.0076, Validation Loss: 0.0087\n",
      "Epoch 26/50, Training Loss: 0.0087, Validation Loss: 0.0085\n",
      "Epoch 27/50, Training Loss: 0.0085, Validation Loss: 0.0076\n",
      "Epoch 28/50, Training Loss: 0.0077, Validation Loss: 0.0067\n",
      "Epoch 29/50, Training Loss: 0.0068, Validation Loss: 0.0055\n",
      "Epoch 30/50, Training Loss: 0.0056, Validation Loss: 0.0037\n",
      "Epoch 31/50, Training Loss: 0.0038, Validation Loss: 0.0017\n",
      "Epoch 32/50, Training Loss: 0.0018, Validation Loss: 0.0007\n",
      "Epoch 33/50, Training Loss: 0.0008, Validation Loss: 0.0011\n",
      "Epoch 34/50, Training Loss: 0.0012, Validation Loss: 0.0021\n",
      "Epoch 35/50, Training Loss: 0.0022, Validation Loss: 0.0028\n",
      "Epoch 36/50, Training Loss: 0.0028, Validation Loss: 0.0030\n",
      "Epoch 37/50, Training Loss: 0.0031, Validation Loss: 0.0030\n",
      "Epoch 38/50, Training Loss: 0.0030, Validation Loss: 0.0025\n",
      "Epoch 39/50, Training Loss: 0.0025, Validation Loss: 0.0015\n",
      "Epoch 40/50, Training Loss: 0.0016, Validation Loss: 0.0007\n",
      "Epoch 41/50, Training Loss: 0.0008, Validation Loss: 0.0005\n",
      "Epoch 42/50, Training Loss: 0.0006, Validation Loss: 0.0007\n",
      "Epoch 43/50, Training Loss: 0.0008, Validation Loss: 0.0011\n",
      "Epoch 44/50, Training Loss: 0.0012, Validation Loss: 0.0012\n",
      "Epoch 45/50, Training Loss: 0.0013, Validation Loss: 0.0013\n",
      "Epoch 46/50, Training Loss: 0.0014, Validation Loss: 0.0013\n",
      "Epoch 47/50, Training Loss: 0.0014, Validation Loss: 0.0012\n",
      "Epoch 48/50, Training Loss: 0.0013, Validation Loss: 0.0008\n",
      "Epoch 49/50, Training Loss: 0.0009, Validation Loss: 0.0005\n",
      "Epoch 50/50, Training Loss: 0.0006, Validation Loss: 0.0003\n",
      "Test Loss: 0.0003\n"
     ]
    }
   ],
   "source": [
    "import pandas as pd\n",
    "import numpy as np\n",
    "import torch\n",
    "import torch.nn as nn\n",
    "from sklearn.preprocessing import OneHotEncoder, MinMaxScaler\n",
    "from sklearn.model_selection import train_test_split\n",
    "\n",
    "# 1. Preparación de Datos:\n",
    "\n",
    "# Cargar el conjunto de datos\n",
    "data = pd.read_csv('raw_sales.csv')\n",
    "\n",
    "# Convertir la columna datesold a un número ordinal\n",
    "data['datesold'] = pd.to_datetime(data['datesold']).apply(lambda x: x.toordinal())\n",
    "\n",
    "# Codificar la columna propertyType\n",
    "encoder = OneHotEncoder()\n",
    "propertyType_encoded = encoder.fit_transform(data[['propertyType']])\n",
    "feature_names = encoder.get_feature_names_out(['propertyType'])\n",
    "data = pd.concat([data, pd.DataFrame(propertyType_encoded.toarray(), columns=feature_names)], axis=1)\n",
    "data.drop('propertyType', axis=1, inplace=True)\n",
    "\n",
    "# Normalizar los valores\n",
    "scaler = MinMaxScaler()\n",
    "data_scaled = scaler.fit_transform(data)\n",
    "\n",
    "# Generar secuencias\n",
    "def generate_sequences(data, sequence_length):\n",
    "    X, y = [], []\n",
    "    for i in range(len(data) - sequence_length):\n",
    "        X.append(data[i:i+sequence_length, :-1])\n",
    "        y.append(data[i+sequence_length, -1])\n",
    "    return np.array(X), np.array(y)\n",
    "\n",
    "X, y = generate_sequences(data_scaled, sequence_length)\n",
    "X_temp, X_test, y_temp, y_test = train_test_split(X, y, test_size=0.1, random_state=42)\n",
    "X_train, X_val, y_train, y_val = train_test_split(X_temp, y_temp, test_size=0.22, random_state=42)  # 0.22 x 0.9 = 0.2\n",
    "\n",
    "# Convertir los datos a tensores de PyTorch\n",
    "X_train_tensor = torch.FloatTensor(X_train)\n",
    "y_train_tensor = torch.FloatTensor(y_train)\n",
    "X_val_tensor = torch.FloatTensor(X_val)\n",
    "y_val_tensor = torch.FloatTensor(y_val)\n",
    "X_test_tensor = torch.FloatTensor(X_test)\n",
    "y_test_tensor = torch.FloatTensor(y_test)\n",
    "\n",
    "# 2. Construcción del Modelo:\n",
    "\n",
    "class LSTMModel(nn.Module):\n",
    "    def __init__(self, input_dim, hidden_dim, output_dim=1, num_layers=1):\n",
    "        super(LSTMModel, self).__init__()\n",
    "        self.lstm = nn.LSTM(input_dim, hidden_dim, num_layers, batch_first=True)\n",
    "        self.linear = nn.Linear(hidden_dim, output_dim)\n",
    "\n",
    "    def forward(self, x):\n",
    "        out, _ = self.lstm(x)\n",
    "        out = self.linear(out[:, -1, :])\n",
    "        return out\n",
    "\n",
    "input_dim = X_train_tensor.shape[2]\n",
    "hidden_dim = 50\n",
    "model = LSTMModel(input_dim, hidden_dim)\n",
    "criterion = nn.MSELoss()\n",
    "optimizer = torch.optim.Adam(model.parameters(), lr=0.01)\n",
    "\n",
    "# 3. Entrenamiento y Validación:\n",
    "\n",
    "num_epochs = 50\n",
    "for epoch in range(num_epochs):\n",
    "    # Entrenamiento\n",
    "    optimizer.zero_grad()\n",
    "    outputs_train = model(X_train_tensor)\n",
    "    loss_train = criterion(outputs_train, y_train_tensor.unsqueeze(1))\n",
    "    loss_train.backward()\n",
    "    optimizer.step()\n",
    "    \n",
    "    # Validación\n",
    "    model.eval()  # Poner el modelo en modo de evaluación\n",
    "    with torch.no_grad():\n",
    "        outputs_val = model(X_val_tensor)\n",
    "        loss_val = criterion(outputs_val, y_val_tensor.unsqueeze(1))\n",
    "    model.train()  # Regresar el modelo al modo de entrenamiento\n",
    "\n",
    "    print(f\"Epoch {epoch+1}/{num_epochs}, Training Loss: {loss_train.item():.4f}, Validation Loss: {loss_val.item():.4f}\")\n",
    "\n",
    "# 4. Evaluación del Conjunto de Test:\n",
    "\n",
    "model.eval()\n",
    "with torch.no_grad():\n",
    "    outputs_test = model(X_test_tensor)\n",
    "    loss_test = criterion(outputs_test, y_test_tensor.unsqueeze(1))\n",
    "\n",
    "print(f\"Test Loss: {loss_test.item():.4f}\")\n"
   ]
  }
 ],
 "metadata": {
  "kernelspec": {
   "display_name": "Python 3",
   "language": "python",
   "name": "python3"
  },
  "language_info": {
   "codemirror_mode": {
    "name": "ipython",
    "version": 3
   },
   "file_extension": ".py",
   "mimetype": "text/x-python",
   "name": "python",
   "nbconvert_exporter": "python",
   "pygments_lexer": "ipython3",
   "version": "3.11.5"
  }
 },
 "nbformat": 4,
 "nbformat_minor": 2
}
